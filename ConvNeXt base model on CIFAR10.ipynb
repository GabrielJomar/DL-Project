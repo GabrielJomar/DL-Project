{
 "cells": [
  {
   "cell_type": "markdown",
   "id": "26f9173c",
   "metadata": {
    "papermill": {
     "duration": 0.006926,
     "end_time": "2022-11-25T20:37:23.658350",
     "exception": false,
     "start_time": "2022-11-25T20:37:23.651424",
     "status": "completed"
    },
    "tags": []
   },
   "source": [
    "# <span style=\"color:coral\"> <center> ConvNeXt on CIFAR 10</center> </span>"
   ]
  },
  {
   "cell_type": "code",
   "execution_count": 1,
   "id": "7e3aa49a",
   "metadata": {
    "execution": {
     "iopub.execute_input": "2022-11-25T20:37:23.682233Z",
     "iopub.status.busy": "2022-11-25T20:37:23.681365Z",
     "iopub.status.idle": "2022-11-25T20:37:28.696016Z",
     "shell.execute_reply": "2022-11-25T20:37:28.694974Z"
    },
    "papermill": {
     "duration": 5.024111,
     "end_time": "2022-11-25T20:37:28.698728",
     "exception": false,
     "start_time": "2022-11-25T20:37:23.674617",
     "status": "completed"
    },
    "tags": []
   },
   "outputs": [],
   "source": [
    "from tensorflow.keras import layers\n",
    "from tensorflow import keras\n",
    "import tensorflow as tf\n",
    "import numpy as np\n",
    "import matplotlib.pyplot as plt\n",
    "import tensorflow_addons as tfa"
   ]
  },
  {
   "cell_type": "markdown",
   "id": "f378d3bc",
   "metadata": {
    "papermill": {
     "duration": 0.005797,
     "end_time": "2022-11-25T20:37:28.710562",
     "exception": false,
     "start_time": "2022-11-25T20:37:28.704765",
     "status": "completed"
    },
    "tags": []
   },
   "source": [
    "# <span style=\"color:coral\">Loading Cifar10 Data</span>"
   ]
  },
  {
   "cell_type": "code",
   "execution_count": 2,
   "id": "d46d0820",
   "metadata": {
    "execution": {
     "iopub.execute_input": "2022-11-25T20:37:28.723210Z",
     "iopub.status.busy": "2022-11-25T20:37:28.722665Z",
     "iopub.status.idle": "2022-11-25T20:37:37.530632Z",
     "shell.execute_reply": "2022-11-25T20:37:37.529620Z"
    },
    "papermill": {
     "duration": 8.816879,
     "end_time": "2022-11-25T20:37:37.533093",
     "exception": false,
     "start_time": "2022-11-25T20:37:28.716214",
     "status": "completed"
    },
    "tags": []
   },
   "outputs": [
    {
     "name": "stdout",
     "output_type": "stream",
     "text": [
      "Downloading data from https://www.cs.toronto.edu/~kriz/cifar-10-python.tar.gz\n",
      "170500096/170498071 [==============================] - 6s 0us/step\n",
      "170508288/170498071 [==============================] - 6s 0us/step\n"
     ]
    }
   ],
   "source": [
    "# importing Cifar10 data from keras datasets\n",
    "(x_train, y_train), (x_test, y_test) = tf.keras.datasets.cifar10.load_data()\n",
    "# Normalize train and test images\n",
    "x_train, x_test = x_train / 255.0, x_test / 255.0 "
   ]
  },
  {
   "cell_type": "code",
   "execution_count": 3,
   "id": "3702697b",
   "metadata": {
    "_kg_hide-output": true,
    "execution": {
     "iopub.execute_input": "2022-11-25T20:37:37.574289Z",
     "iopub.status.busy": "2022-11-25T20:37:37.573978Z",
     "iopub.status.idle": "2022-11-25T20:37:44.203329Z",
     "shell.execute_reply": "2022-11-25T20:37:44.202150Z"
    },
    "papermill": {
     "duration": 6.643047,
     "end_time": "2022-11-25T20:37:44.205917",
     "exception": false,
     "start_time": "2022-11-25T20:37:37.562870",
     "status": "completed"
    },
    "tags": []
   },
   "outputs": [
    {
     "name": "stderr",
     "output_type": "stream",
     "text": [
      "2022-11-25 20:37:37.641983: I tensorflow/stream_executor/cuda/cuda_gpu_executor.cc:937] successful NUMA node read from SysFS had negative value (-1), but there must be at least one NUMA node, so returning NUMA node zero\n",
      "2022-11-25 20:37:37.730288: I tensorflow/stream_executor/cuda/cuda_gpu_executor.cc:937] successful NUMA node read from SysFS had negative value (-1), but there must be at least one NUMA node, so returning NUMA node zero\n",
      "2022-11-25 20:37:37.731041: I tensorflow/stream_executor/cuda/cuda_gpu_executor.cc:937] successful NUMA node read from SysFS had negative value (-1), but there must be at least one NUMA node, so returning NUMA node zero\n",
      "2022-11-25 20:37:37.734193: I tensorflow/core/platform/cpu_feature_guard.cc:142] This TensorFlow binary is optimized with oneAPI Deep Neural Network Library (oneDNN) to use the following CPU instructions in performance-critical operations:  AVX2 AVX512F FMA\n",
      "To enable them in other operations, rebuild TensorFlow with the appropriate compiler flags.\n",
      "2022-11-25 20:37:37.734513: I tensorflow/stream_executor/cuda/cuda_gpu_executor.cc:937] successful NUMA node read from SysFS had negative value (-1), but there must be at least one NUMA node, so returning NUMA node zero\n",
      "2022-11-25 20:37:37.735219: I tensorflow/stream_executor/cuda/cuda_gpu_executor.cc:937] successful NUMA node read from SysFS had negative value (-1), but there must be at least one NUMA node, so returning NUMA node zero\n",
      "2022-11-25 20:37:37.735838: I tensorflow/stream_executor/cuda/cuda_gpu_executor.cc:937] successful NUMA node read from SysFS had negative value (-1), but there must be at least one NUMA node, so returning NUMA node zero\n",
      "2022-11-25 20:37:39.894643: I tensorflow/stream_executor/cuda/cuda_gpu_executor.cc:937] successful NUMA node read from SysFS had negative value (-1), but there must be at least one NUMA node, so returning NUMA node zero\n",
      "2022-11-25 20:37:39.895506: I tensorflow/stream_executor/cuda/cuda_gpu_executor.cc:937] successful NUMA node read from SysFS had negative value (-1), but there must be at least one NUMA node, so returning NUMA node zero\n",
      "2022-11-25 20:37:39.896193: I tensorflow/stream_executor/cuda/cuda_gpu_executor.cc:937] successful NUMA node read from SysFS had negative value (-1), but there must be at least one NUMA node, so returning NUMA node zero\n",
      "2022-11-25 20:37:39.896933: I tensorflow/core/common_runtime/gpu/gpu_device.cc:1510] Created device /job:localhost/replica:0/task:0/device:GPU:0 with 15401 MB memory:  -> device: 0, name: Tesla P100-PCIE-16GB, pci bus id: 0000:00:04.0, compute capability: 6.0\n",
      "2022-11-25 20:37:40.602137: W tensorflow/core/framework/cpu_allocator_impl.cc:80] Allocation of 1228800000 exceeds 10% of free system memory.\n",
      "2022-11-25 20:37:42.268884: W tensorflow/core/framework/cpu_allocator_impl.cc:80] Allocation of 1228800000 exceeds 10% of free system memory.\n"
     ]
    }
   ],
   "source": [
    "AUTO = tf.data.AUTOTUNE\n",
    "BATCH_SIZE=128\n",
    "# convert images to float32 format and convert labels to int32\n",
    "def preprocess (image, label):\n",
    "    image = tf.image.convert_image_dtype(image, tf.float32)\n",
    "    label = tf.cast(label, tf.int32)\n",
    "    return image, label\n",
    "\n",
    "#Peform augmentations on training data\n",
    "def augmentation(image,label):\n",
    "    image = tf.image.resize_with_crop_or_pad(image, 40, 40) # Add 8 pixels of padding\n",
    "    image = tf.image.random_crop(image, size=[32, 32, 3]) # Random crop back to 32x32\n",
    "    image = tf.image.random_brightness(image, max_delta=0.5) # Random brightness\n",
    "    image = tf.clip_by_value(image, 0., 1.)\n",
    "    return image, label\n",
    "\n",
    "\n",
    "train_data = tf.data.Dataset.from_tensor_slices((x_train, y_train))\n",
    "#applying transformations \n",
    "train_data = train_data.shuffle(1024) # shuffle the images\n",
    "train_data = train_data.map(preprocess, num_parallel_calls=AUTO)# mapping our preprocess function to train_data \n",
    "train_data = train_data.map(augmentation, num_parallel_calls=AUTO)# mapping our augmentation funtion to train_data\n",
    "train_data = train_data.batch(BATCH_SIZE) #Converting train_data to batches\n",
    "train_data = train_data.prefetch(AUTO) # using prefetch which prepares subsequent batches of data while other batches are being computed.\n",
    "\n",
    "\n",
    "test_data = tf.data.Dataset.from_tensor_slices((x_test, y_test))\n",
    "#applying transformations \n",
    "test_data = test_data.map(preprocess, num_parallel_calls=AUTO) # mapping our preprocess function test_data \n",
    "test_data = test_data.batch(BATCH_SIZE)\n",
    "test_data = test_data.prefetch(AUTO) # using prefetch which prepares subsequent batches of data while other batches are being computed.\n"
   ]
  },
  {
   "cell_type": "markdown",
   "id": "37cc7efa",
   "metadata": {
    "papermill": {
     "duration": 0.010773,
     "end_time": "2022-11-25T20:37:44.226959",
     "exception": false,
     "start_time": "2022-11-25T20:37:44.216186",
     "status": "completed"
    },
    "tags": []
   },
   "source": [
    "# <center>ConvNeXt Block</center>\n",
    "\n",
    "\n",
    " \n",
    "As given in this paper we use a slightly modified inverted bottle-neck design given by:\n",
    "\n",
    "1. A depthwise convolution, authors found out that `7x7 size` depthwise convolution gives better performance than that of other sizes. followed by a layer norm normalization layer as used in transformer architectures.\n",
    "\n",
    "2. `Layer normalization` is used after the depthwise convolution instead of the Batch Normalization. As opposed to ResNet Block architecture ConvNeXt block only uses `layer norm` once in a residual block. \n",
    "\n",
    "> `Note:` In batchnorm, the mean and variance used for normalization are calculated across all elements in a batch, for each feature independently while in layernorm, they are calculated across the feature dimension, for each element and instance independently. \n",
    "\n",
    "3. A 1x1 `pointwise convolution` is used after LN.\n",
    "\n",
    "4. A GELU activation function is used after 1x1 pointwise convolutional layer. As opposed to multiple ReLU activations in ResNet residual block, ConvNext uses GELU activation function only once in a residual block.\n",
    "\n",
    "5. Another 1x1 `pointwise convolution` is used.\n",
    "\n",
    "\n",
    " "
   ]
  },
  {
   "cell_type": "code",
   "execution_count": 4,
   "id": "bdeecf5c",
   "metadata": {
    "execution": {
     "iopub.execute_input": "2022-11-25T20:37:44.248188Z",
     "iopub.status.busy": "2022-11-25T20:37:44.247853Z",
     "iopub.status.idle": "2022-11-25T20:37:44.257737Z",
     "shell.execute_reply": "2022-11-25T20:37:44.256944Z"
    },
    "papermill": {
     "duration": 0.022749,
     "end_time": "2022-11-25T20:37:44.259674",
     "exception": false,
     "start_time": "2022-11-25T20:37:44.236925",
     "status": "completed"
    },
    "tags": []
   },
   "outputs": [],
   "source": [
    "class ConvNext_Block(tf.keras.Model):\n",
    "    \n",
    "    \"\"\"\n",
    "    Implementing the ConvNeXt block for \n",
    "    \n",
    "    Args:\n",
    "        dim: No of input channels\n",
    "        drop_path: stotchastic depth rate \n",
    "        layer_scale_init_value=1e-6\n",
    "    \n",
    "    Returns:\n",
    "        A conv block\n",
    "    \"\"\"\n",
    "    \n",
    "    def __init__(self, dim, drop_path=0.0, layer_scale_init_value=1e-6, **kwargs):\n",
    "        super(ConvNext_Block, self).__init__(**kwargs)\n",
    "        \n",
    "        self.depthwise_convolution = layers.Conv2D(dim, kernel_size=7, padding=\"same\", groups=dim )\n",
    "        self.layer_normalization = layers.LayerNormalization(epsilon=1e-6)\n",
    "        self.pointwise_convolution_1 = layers.Dense(4 * dim)\n",
    "        self.GELU = layers.Activation(\"gelu\")\n",
    "        self.pointwise_convolution_2 = layers.Dense(dim)\n",
    "        self.gamma = tf.Variable(layer_scale_init_value * tf.ones((dim,)))\n",
    "        if drop_path>0.0:\n",
    "            self.drop_path=(tfa.layers.StochasticDepth(drop_path))\n",
    "        else:\n",
    "            self.drop_path=layers.Activation(\"linear\")\n",
    "        \n",
    "\n",
    "    def call(self, inputs):\n",
    "        x = inputs\n",
    "        x = self.depthwise_convolution(x)\n",
    "        x = self.layer_normalization(x)\n",
    "        x = self.pointwise_convolution_1(x)\n",
    "        x = self.GELU(x)\n",
    "        x = self.pointwise_convolution_2(x)\n",
    "        x = self.gamma * x\n",
    "\n",
    "        return inputs + self.drop_path(x)\n"
   ]
  },
  {
   "cell_type": "markdown",
   "id": "ea8192a7",
   "metadata": {
    "papermill": {
     "duration": 0.009549,
     "end_time": "2022-11-25T20:37:44.279125",
     "exception": false,
     "start_time": "2022-11-25T20:37:44.269576",
     "status": "completed"
    },
    "tags": []
   },
   "source": [
    "# Patchify Stem \n",
    "\n"
   ]
  },
  {
   "cell_type": "code",
   "execution_count": 5,
   "id": "0a3f8ec7",
   "metadata": {
    "execution": {
     "iopub.execute_input": "2022-11-25T20:37:44.300068Z",
     "iopub.status.busy": "2022-11-25T20:37:44.299794Z",
     "iopub.status.idle": "2022-11-25T20:37:44.305744Z",
     "shell.execute_reply": "2022-11-25T20:37:44.304805Z"
    },
    "papermill": {
     "duration": 0.018678,
     "end_time": "2022-11-25T20:37:44.307825",
     "exception": false,
     "start_time": "2022-11-25T20:37:44.289147",
     "status": "completed"
    },
    "tags": []
   },
   "outputs": [],
   "source": [
    "def patchify_stem(dims):\n",
    "    \"\"\"\n",
    "    Implements the stem block of ConvNeXt\n",
    "    \n",
    "    Args:\n",
    "        Dims: List of feature dimensions at each stage.\n",
    "    \n",
    "    Returns:\n",
    "        feature maps after patchify operation\n",
    "    \"\"\"\n",
    "    stem = keras.Sequential(\n",
    "        [layers.Conv2D(dims[0], kernel_size=4, strides=4),\n",
    "        layers.LayerNormalization(epsilon=1e-6)],\n",
    "        )\n",
    "    return stem"
   ]
  },
  {
   "cell_type": "markdown",
   "id": "6bb06370",
   "metadata": {
    "papermill": {
     "duration": 0.009913,
     "end_time": "2022-11-25T20:37:44.327549",
     "exception": false,
     "start_time": "2022-11-25T20:37:44.317636",
     "status": "completed"
    },
    "tags": []
   },
   "source": [
    "# Spatial Downsampling\n",
    "\n",
    "\n"
   ]
  },
  {
   "cell_type": "code",
   "execution_count": 6,
   "id": "edfb4e48",
   "metadata": {
    "execution": {
     "iopub.execute_input": "2022-11-25T20:37:44.349350Z",
     "iopub.status.busy": "2022-11-25T20:37:44.347960Z",
     "iopub.status.idle": "2022-11-25T20:37:44.354556Z",
     "shell.execute_reply": "2022-11-25T20:37:44.353754Z"
    },
    "papermill": {
     "duration": 0.019141,
     "end_time": "2022-11-25T20:37:44.356384",
     "exception": false,
     "start_time": "2022-11-25T20:37:44.337243",
     "status": "completed"
    },
    "tags": []
   },
   "outputs": [],
   "source": [
    "def spatial_downsampling(stem,dims,kernel_size,stride):\n",
    "    \"\"\"\n",
    "    Implements Spatial Downsampling of ConvNeXt\n",
    "    \n",
    "    Args:\n",
    "        Dims: List of feature dimensions at each stage.\n",
    "        stem: Patchify stem output of images\n",
    "        kernel_size: Downsampling kernel_size\n",
    "        stride: Downsampling stride length\n",
    "    Returns:\n",
    "        Downsampled layers\n",
    "    \"\"\"\n",
    "\n",
    "    ds_layers = []\n",
    "    ds_layers.append(stem)\n",
    "    for dim in dims[1:]:\n",
    "        layer = keras.Sequential(\n",
    "            [layers.LayerNormalization(epsilon=1e-6),\n",
    "            layers.Conv2D(dim, kernel_size=kernel_size, strides=stride),\n",
    "            ]\n",
    "        )\n",
    "        ds_layers.append(layer)\n",
    "        \n",
    "    return ds_layers"
   ]
  },
  {
   "cell_type": "markdown",
   "id": "b59c8ce7",
   "metadata": {
    "papermill": {
     "duration": 0.009564,
     "end_time": "2022-11-25T20:37:44.376312",
     "exception": false,
     "start_time": "2022-11-25T20:37:44.366748",
     "status": "completed"
    },
    "tags": []
   },
   "source": [
    "# Convnext Stages\n"
   ]
  },
  {
   "cell_type": "code",
   "execution_count": 7,
   "id": "f61adc6d",
   "metadata": {
    "execution": {
     "iopub.execute_input": "2022-11-25T20:37:44.397095Z",
     "iopub.status.busy": "2022-11-25T20:37:44.396822Z",
     "iopub.status.idle": "2022-11-25T20:37:44.402918Z",
     "shell.execute_reply": "2022-11-25T20:37:44.401937Z"
    },
    "papermill": {
     "duration": 0.018979,
     "end_time": "2022-11-25T20:37:44.405271",
     "exception": false,
     "start_time": "2022-11-25T20:37:44.386292",
     "status": "completed"
    },
    "tags": []
   },
   "outputs": [],
   "source": [
    "def ConvNext_Stages (dims,drop_path_rate,depths,layer_scale_init_value):\n",
    "    \"\"\"\n",
    "    Creating stages each consiting of multiple residual blocks\n",
    "    \n",
    "    Args:\n",
    "        dims: List of feature dimensions at each stage.\n",
    "        drop_path_rate: Stochastic depth rate\n",
    "        depths: Number of blocks at each stage\n",
    "        layer_scale_init_value: Init value for Layer Scale\n",
    "        \n",
    "    \"\"\"\n",
    "    stages = []\n",
    "    dropout_rates = [x for x in tf.linspace(0.0, drop_path_rate, sum(depths))]\n",
    "    cur = 0\n",
    "    for i in range(len(dims)):\n",
    "        stage = keras.Sequential(\n",
    "            [*[ConvNext_Block(dim=dims[i],drop_path=dropout_rates[cur + j],layer_scale_init_value=layer_scale_init_value) for j in range(depths[i])]\n",
    "            ]\n",
    "        )\n",
    "        stages.append(stage)\n",
    "        cur += depths[i]\n",
    "    return stages"
   ]
  },
  {
   "cell_type": "markdown",
   "id": "ea2c8992",
   "metadata": {
    "papermill": {
     "duration": 0.009755,
     "end_time": "2022-11-25T20:37:44.424863",
     "exception": false,
     "start_time": "2022-11-25T20:37:44.415108",
     "status": "completed"
    },
    "tags": []
   },
   "source": [
    "# Final ConvNeXt Model\n"
   ]
  },
  {
   "cell_type": "code",
   "execution_count": 8,
   "id": "91fb8432",
   "metadata": {
    "execution": {
     "iopub.execute_input": "2022-11-25T20:37:44.445845Z",
     "iopub.status.busy": "2022-11-25T20:37:44.445545Z",
     "iopub.status.idle": "2022-11-25T20:37:44.449786Z",
     "shell.execute_reply": "2022-11-25T20:37:44.448867Z"
    },
    "papermill": {
     "duration": 0.016922,
     "end_time": "2022-11-25T20:37:44.451744",
     "exception": false,
     "start_time": "2022-11-25T20:37:44.434822",
     "status": "completed"
    },
    "tags": []
   },
   "outputs": [],
   "source": [
    "drop_path_rate=0.0\n",
    "layer_scale_init_value=1e-6\n",
    "dims=[96, 192, 384, 768]\n",
    "depths=[3, 3, 9, 3]"
   ]
  },
  {
   "cell_type": "code",
   "execution_count": 9,
   "id": "7b83241d",
   "metadata": {
    "execution": {
     "iopub.execute_input": "2022-11-25T20:37:44.472617Z",
     "iopub.status.busy": "2022-11-25T20:37:44.472368Z",
     "iopub.status.idle": "2022-11-25T20:37:46.373684Z",
     "shell.execute_reply": "2022-11-25T20:37:46.372728Z"
    },
    "papermill": {
     "duration": 1.914535,
     "end_time": "2022-11-25T20:37:46.376068",
     "exception": false,
     "start_time": "2022-11-25T20:37:44.461533",
     "status": "completed"
    },
    "tags": []
   },
   "outputs": [],
   "source": [
    "inputs = layers.Input((32,32,3))\n",
    "x = inputs\n",
    "\n",
    "stem=patchify_stem(dims)\n",
    "\n",
    "downsampling=spatial_downsampling(stem,dims,kernel_size=2,stride=2)\n",
    "\n",
    "stages=ConvNext_Stages(dims,drop_path_rate,depths,layer_scale_init_value)\n",
    "\n",
    "for i in range(len(stages)):\n",
    "    x = downsampling[i](x)\n",
    "    x = stages[i](x)\n",
    "\n",
    "x = layers.GlobalAvgPool2D()(x)\n",
    "x = layers.LayerNormalization(epsilon=1e-6)(x)\n",
    "\n",
    "outputs = layers.Dense(10)(x)\n",
    "\n",
    "ConvNeXt_model=keras.Model(inputs, outputs)"
   ]
  },
  {
   "cell_type": "code",
   "execution_count": 10,
   "id": "203cfbb2",
   "metadata": {
    "_kg_hide-input": true,
    "execution": {
     "iopub.execute_input": "2022-11-25T20:37:46.397614Z",
     "iopub.status.busy": "2022-11-25T20:37:46.397316Z",
     "iopub.status.idle": "2022-11-25T20:37:46.410989Z",
     "shell.execute_reply": "2022-11-25T20:37:46.409968Z"
    },
    "papermill": {
     "duration": 0.027659,
     "end_time": "2022-11-25T20:37:46.414146",
     "exception": false,
     "start_time": "2022-11-25T20:37:46.386487",
     "status": "completed"
    },
    "tags": []
   },
   "outputs": [
    {
     "name": "stdout",
     "output_type": "stream",
     "text": [
      "Model: \"model\"\n",
      "_________________________________________________________________\n",
      "Layer (type)                 Output Shape              Param #   \n",
      "=================================================================\n",
      "input_1 (InputLayer)         [(None, 32, 32, 3)]       0         \n",
      "_________________________________________________________________\n",
      "sequential (Sequential)      (None, 8, 8, 96)          4896      \n",
      "_________________________________________________________________\n",
      "sequential_4 (Sequential)    (None, 8, 8, 96)          237888    \n",
      "_________________________________________________________________\n",
      "sequential_1 (Sequential)    (None, 4, 4, 192)         74112     \n",
      "_________________________________________________________________\n",
      "sequential_5 (Sequential)    (None, 4, 4, 192)         918144    \n",
      "_________________________________________________________________\n",
      "sequential_2 (Sequential)    (None, 2, 2, 384)         295680    \n",
      "_________________________________________________________________\n",
      "sequential_6 (Sequential)    (None, 2, 2, 384)         10817280  \n",
      "_________________________________________________________________\n",
      "sequential_3 (Sequential)    (None, 1, 1, 768)         1181184   \n",
      "_________________________________________________________________\n",
      "sequential_7 (Sequential)    (None, 1, 1, 768)         14289408  \n",
      "_________________________________________________________________\n",
      "global_average_pooling2d (Gl (None, 768)               0         \n",
      "_________________________________________________________________\n",
      "layer_normalization_22 (Laye (None, 768)               1536      \n",
      "_________________________________________________________________\n",
      "dense_36 (Dense)             (None, 10)                7690      \n",
      "=================================================================\n",
      "Total params: 27,827,818\n",
      "Trainable params: 27,827,818\n",
      "Non-trainable params: 0\n",
      "_________________________________________________________________\n"
     ]
    }
   ],
   "source": [
    "ConvNeXt_model.summary()"
   ]
  },
  {
   "cell_type": "code",
   "execution_count": 11,
   "id": "3fa11f61",
   "metadata": {
    "execution": {
     "iopub.execute_input": "2022-11-25T20:37:46.437699Z",
     "iopub.status.busy": "2022-11-25T20:37:46.436272Z",
     "iopub.status.idle": "2022-11-25T20:55:01.667116Z",
     "shell.execute_reply": "2022-11-25T20:55:01.666112Z"
    },
    "papermill": {
     "duration": 1035.244385,
     "end_time": "2022-11-25T20:55:01.669677",
     "exception": false,
     "start_time": "2022-11-25T20:37:46.425292",
     "status": "completed"
    },
    "tags": []
   },
   "outputs": [
    {
     "name": "stderr",
     "output_type": "stream",
     "text": [
      "2022-11-25 20:37:46.466036: W tensorflow/core/framework/cpu_allocator_impl.cc:80] Allocation of 1228800000 exceeds 10% of free system memory.\n",
      "2022-11-25 20:37:47.330679: I tensorflow/compiler/mlir/mlir_graph_optimization_pass.cc:185] None of the MLIR Optimization Passes are enabled (registered 2)\n",
      "2022-11-25 20:37:47.394307: W tensorflow/core/framework/cpu_allocator_impl.cc:80] Allocation of 1228800000 exceeds 10% of free system memory.\n"
     ]
    },
    {
     "name": "stdout",
     "output_type": "stream",
     "text": [
      "Epoch 1/25\n"
     ]
    },
    {
     "name": "stderr",
     "output_type": "stream",
     "text": [
      "2022-11-25 20:38:00.821970: I tensorflow/stream_executor/cuda/cuda_dnn.cc:369] Loaded cuDNN version 8005\n"
     ]
    },
    {
     "name": "stdout",
     "output_type": "stream",
     "text": [
      "391/391 [==============================] - 57s 98ms/step - loss: 2.2339 - accuracy: 0.2274 - val_loss: 1.7153 - val_accuracy: 0.3848\n"
     ]
    },
    {
     "name": "stderr",
     "output_type": "stream",
     "text": [
      "2022-11-25 20:38:45.609347: W tensorflow/core/framework/cpu_allocator_impl.cc:80] Allocation of 1228800000 exceeds 10% of free system memory.\n"
     ]
    },
    {
     "name": "stdout",
     "output_type": "stream",
     "text": [
      "Epoch 2/25\n",
      "391/391 [==============================] - 36s 91ms/step - loss: 1.7290 - accuracy: 0.3716 - val_loss: 1.6215 - val_accuracy: 0.4262\n",
      "Epoch 3/25\n",
      "391/391 [==============================] - 36s 91ms/step - loss: 1.5856 - accuracy: 0.4226 - val_loss: 1.4028 - val_accuracy: 0.4973\n",
      "Epoch 4/25\n",
      "391/391 [==============================] - 36s 91ms/step - loss: 1.4728 - accuracy: 0.4667 - val_loss: 1.3500 - val_accuracy: 0.5187\n",
      "Epoch 5/25\n",
      "391/391 [==============================] - 36s 93ms/step - loss: 1.4037 - accuracy: 0.4951 - val_loss: 1.2724 - val_accuracy: 0.5407\n",
      "Epoch 6/25\n",
      "391/391 [==============================] - 36s 91ms/step - loss: 1.3370 - accuracy: 0.5183 - val_loss: 1.2093 - val_accuracy: 0.5746\n",
      "Epoch 7/25\n",
      "391/391 [==============================] - 36s 92ms/step - loss: 1.2837 - accuracy: 0.5392 - val_loss: 1.1815 - val_accuracy: 0.5807\n",
      "Epoch 8/25\n",
      "391/391 [==============================] - 36s 92ms/step - loss: 1.2311 - accuracy: 0.5583 - val_loss: 1.0896 - val_accuracy: 0.6073\n",
      "Epoch 9/25\n",
      "391/391 [==============================] - 36s 92ms/step - loss: 1.1834 - accuracy: 0.5784 - val_loss: 1.0947 - val_accuracy: 0.6155\n",
      "Epoch 10/25\n",
      "391/391 [==============================] - 36s 92ms/step - loss: 1.1405 - accuracy: 0.5929 - val_loss: 1.0414 - val_accuracy: 0.6318\n",
      "Epoch 11/25\n",
      "391/391 [==============================] - 36s 91ms/step - loss: 1.0961 - accuracy: 0.6097 - val_loss: 1.0733 - val_accuracy: 0.6215\n",
      "Epoch 12/25\n",
      "391/391 [==============================] - 36s 92ms/step - loss: 1.0598 - accuracy: 0.6237 - val_loss: 1.0084 - val_accuracy: 0.6477\n",
      "Epoch 13/25\n",
      "391/391 [==============================] - 36s 91ms/step - loss: 1.0216 - accuracy: 0.6370 - val_loss: 1.0091 - val_accuracy: 0.6447\n",
      "Epoch 14/25\n",
      "391/391 [==============================] - 36s 92ms/step - loss: 0.9860 - accuracy: 0.6525 - val_loss: 0.9758 - val_accuracy: 0.6588\n",
      "Epoch 15/25\n",
      "391/391 [==============================] - 35s 91ms/step - loss: 0.9510 - accuracy: 0.6649 - val_loss: 0.9730 - val_accuracy: 0.6588\n",
      "Epoch 16/25\n",
      "391/391 [==============================] - 36s 92ms/step - loss: 0.9209 - accuracy: 0.6757 - val_loss: 0.9836 - val_accuracy: 0.6573\n",
      "Epoch 17/25\n",
      "391/391 [==============================] - 36s 93ms/step - loss: 0.8781 - accuracy: 0.6893 - val_loss: 0.9196 - val_accuracy: 0.6771\n",
      "Epoch 18/25\n",
      "391/391 [==============================] - 36s 92ms/step - loss: 0.8395 - accuracy: 0.7038 - val_loss: 0.9229 - val_accuracy: 0.6812\n",
      "Epoch 19/25\n",
      "391/391 [==============================] - 36s 92ms/step - loss: 0.8039 - accuracy: 0.7157 - val_loss: 0.9278 - val_accuracy: 0.6839\n",
      "Epoch 20/25\n",
      "391/391 [==============================] - 36s 91ms/step - loss: 0.7703 - accuracy: 0.7280 - val_loss: 0.9365 - val_accuracy: 0.6798\n",
      "Epoch 21/25\n",
      "391/391 [==============================] - 36s 91ms/step - loss: 0.7344 - accuracy: 0.7420 - val_loss: 0.9410 - val_accuracy: 0.6885\n",
      "Epoch 22/25\n",
      "391/391 [==============================] - 36s 92ms/step - loss: 0.7010 - accuracy: 0.7518 - val_loss: 0.9241 - val_accuracy: 0.6858\n",
      "Epoch 23/25\n",
      "391/391 [==============================] - 36s 91ms/step - loss: 0.6554 - accuracy: 0.7673 - val_loss: 0.9137 - val_accuracy: 0.6930\n",
      "Epoch 24/25\n",
      "391/391 [==============================] - 36s 92ms/step - loss: 0.6218 - accuracy: 0.7806 - val_loss: 0.9207 - val_accuracy: 0.6996\n",
      "Epoch 25/25\n",
      "391/391 [==============================] - 35s 91ms/step - loss: 0.5772 - accuracy: 0.7957 - val_loss: 0.9419 - val_accuracy: 0.7082\n"
     ]
    }
   ],
   "source": [
    "ConvNeXt_model.compile(\n",
    "    optimizer=tfa.optimizers.AdamW(learning_rate=0.001,weight_decay=0.0001),\n",
    "    loss=tf.keras.losses.SparseCategoricalCrossentropy(from_logits=True),\n",
    "                metrics=['accuracy'])\n",
    "\n",
    "history=ConvNeXt_model.fit(train_data,\n",
    "          batch_size=64,\n",
    "          epochs=25,\n",
    "          validation_data=test_data)"
   ]
  },
  {
   "cell_type": "code",
   "execution_count": 12,
   "id": "90bceab9",
   "metadata": {
    "_kg_hide-input": true,
    "execution": {
     "iopub.execute_input": "2022-11-25T20:55:02.857678Z",
     "iopub.status.busy": "2022-11-25T20:55:02.857238Z",
     "iopub.status.idle": "2022-11-25T20:55:03.551025Z",
     "shell.execute_reply": "2022-11-25T20:55:03.550109Z"
    },
    "papermill": {
     "duration": 1.31741,
     "end_time": "2022-11-25T20:55:03.553687",
     "exception": false,
     "start_time": "2022-11-25T20:55:02.236277",
     "status": "completed"
    },
    "tags": []
   },
   "outputs": [
    {
     "data": {
      "image/png": "[encoded data removed]",
      "text/plain": [
       "<Figure size 1440x360 with 2 Axes>"
      ]
     },
     "metadata": {
      "needs_background": "light"
     },
     "output_type": "display_data"
    }
   ],
   "source": [
    "# Plotting loss and accuracy curves\n",
    "plt.figure(figsize=(20,5))\n",
    "plt.subplot(1,2,1)\n",
    "plt.plot(history.history['accuracy'])\n",
    "plt.plot(history.history['val_accuracy'])\n",
    "plt.title('model accuracy')\n",
    "plt.ylabel('accuracy')\n",
    "plt.xlabel('epoch')\n",
    "plt.legend(['train', 'test'], loc='upper left')\n",
    "\n",
    "plt.subplot(1,2,2)\n",
    "plt.plot(history.history['loss'])\n",
    "plt.plot(history.history['val_loss'])\n",
    "plt.title('model loss')\n",
    "plt.ylabel('loss')\n",
    "plt.xlabel('epoch')\n",
    "plt.legend(['train', 'test'], loc='upper left')\n",
    "plt.show()"
   ]
  }
 ],
 "metadata": {
  "kernelspec": {
   "display_name": "Python 3",
   "language": "python",
   "name": "python3"
  },
  "language_info": {
   "codemirror_mode": {
    "name": "ipython",
    "version": 3
   },
   "file_extension": ".py",
   "mimetype": "text/x-python",
   "name": "python",
   "nbconvert_exporter": "python",
   "pygments_lexer": "ipython3",
   "version": "3.7.12"
  },
  "papermill": {
   "default_parameters": {},
   "duration": 1073.798095,
   "end_time": "2022-11-25T20:55:10.061140",
   "environment_variables": {},
   "exception": null,
   "input_path": "__notebook__.ipynb",
   "output_path": "__notebook__.ipynb",
   "parameters": {},
   "start_time": "2022-11-25T20:37:16.263045",
   "version": "2.3.4"
  }
 },
 "nbformat": 4,
 "nbformat_minor": 5
}
